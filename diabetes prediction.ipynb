{
 "cells": [
  {
   "cell_type": "code",
   "execution_count": 1,
   "metadata": {},
   "outputs": [],
   "source": [
    "import pandas as pd\n",
    "import numpy as np\n",
    "import matplotlib.pyplot\n",
    "import seaborn as sns"
   ]
  },
  {
   "cell_type": "code",
   "execution_count": 2,
   "metadata": {},
   "outputs": [],
   "source": [
    "data=pd.read_csv(\"diabetes.csv\")"
   ]
  },
  {
   "cell_type": "code",
   "execution_count": 3,
   "metadata": {},
   "outputs": [
    {
     "data": {
      "text/html": [
       "<div>\n",
       "<style scoped>\n",
       "    .dataframe tbody tr th:only-of-type {\n",
       "        vertical-align: middle;\n",
       "    }\n",
       "\n",
       "    .dataframe tbody tr th {\n",
       "        vertical-align: top;\n",
       "    }\n",
       "\n",
       "    .dataframe thead th {\n",
       "        text-align: right;\n",
       "    }\n",
       "</style>\n",
       "<table border=\"1\" class=\"dataframe\">\n",
       "  <thead>\n",
       "    <tr style=\"text-align: right;\">\n",
       "      <th></th>\n",
       "      <th>Pregnancies</th>\n",
       "      <th>Glucose</th>\n",
       "      <th>BloodPressure</th>\n",
       "      <th>SkinThickness</th>\n",
       "      <th>Insulin</th>\n",
       "      <th>BMI</th>\n",
       "      <th>DiabetesPedigreeFunction</th>\n",
       "      <th>Age</th>\n",
       "      <th>Outcome</th>\n",
       "    </tr>\n",
       "  </thead>\n",
       "  <tbody>\n",
       "    <tr>\n",
       "      <th>0</th>\n",
       "      <td>6</td>\n",
       "      <td>148</td>\n",
       "      <td>72</td>\n",
       "      <td>35</td>\n",
       "      <td>0</td>\n",
       "      <td>33.6</td>\n",
       "      <td>0.627</td>\n",
       "      <td>50</td>\n",
       "      <td>1</td>\n",
       "    </tr>\n",
       "    <tr>\n",
       "      <th>1</th>\n",
       "      <td>1</td>\n",
       "      <td>85</td>\n",
       "      <td>66</td>\n",
       "      <td>29</td>\n",
       "      <td>0</td>\n",
       "      <td>26.6</td>\n",
       "      <td>0.351</td>\n",
       "      <td>31</td>\n",
       "      <td>0</td>\n",
       "    </tr>\n",
       "    <tr>\n",
       "      <th>2</th>\n",
       "      <td>8</td>\n",
       "      <td>183</td>\n",
       "      <td>64</td>\n",
       "      <td>0</td>\n",
       "      <td>0</td>\n",
       "      <td>23.3</td>\n",
       "      <td>0.672</td>\n",
       "      <td>32</td>\n",
       "      <td>1</td>\n",
       "    </tr>\n",
       "    <tr>\n",
       "      <th>3</th>\n",
       "      <td>1</td>\n",
       "      <td>89</td>\n",
       "      <td>66</td>\n",
       "      <td>23</td>\n",
       "      <td>94</td>\n",
       "      <td>28.1</td>\n",
       "      <td>0.167</td>\n",
       "      <td>21</td>\n",
       "      <td>0</td>\n",
       "    </tr>\n",
       "    <tr>\n",
       "      <th>4</th>\n",
       "      <td>0</td>\n",
       "      <td>137</td>\n",
       "      <td>40</td>\n",
       "      <td>35</td>\n",
       "      <td>168</td>\n",
       "      <td>43.1</td>\n",
       "      <td>2.288</td>\n",
       "      <td>33</td>\n",
       "      <td>1</td>\n",
       "    </tr>\n",
       "  </tbody>\n",
       "</table>\n",
       "</div>"
      ],
      "text/plain": [
       "   Pregnancies  Glucose  BloodPressure  SkinThickness  Insulin   BMI  \\\n",
       "0            6      148             72             35        0  33.6   \n",
       "1            1       85             66             29        0  26.6   \n",
       "2            8      183             64              0        0  23.3   \n",
       "3            1       89             66             23       94  28.1   \n",
       "4            0      137             40             35      168  43.1   \n",
       "\n",
       "   DiabetesPedigreeFunction  Age  Outcome  \n",
       "0                     0.627   50        1  \n",
       "1                     0.351   31        0  \n",
       "2                     0.672   32        1  \n",
       "3                     0.167   21        0  \n",
       "4                     2.288   33        1  "
      ]
     },
     "execution_count": 3,
     "metadata": {},
     "output_type": "execute_result"
    }
   ],
   "source": [
    "data.head()"
   ]
  },
  {
   "cell_type": "code",
   "execution_count": 4,
   "metadata": {},
   "outputs": [
    {
     "data": {
      "text/plain": [
       "Pregnancies                 0\n",
       "Glucose                     0\n",
       "BloodPressure               0\n",
       "SkinThickness               0\n",
       "Insulin                     0\n",
       "BMI                         0\n",
       "DiabetesPedigreeFunction    0\n",
       "Age                         0\n",
       "Outcome                     0\n",
       "dtype: int64"
      ]
     },
     "execution_count": 4,
     "metadata": {},
     "output_type": "execute_result"
    }
   ],
   "source": [
    "data.isnull().sum()"
   ]
  },
  {
   "cell_type": "code",
   "execution_count": 5,
   "metadata": {},
   "outputs": [
    {
     "data": {
      "text/plain": [
       "array([0, 1], dtype=int64)"
      ]
     },
     "execution_count": 5,
     "metadata": {},
     "output_type": "execute_result"
    }
   ],
   "source": [
    "data.dtypes.value_counts()\n",
    "np.unique(data['Outcome'])"
   ]
  },
  {
   "cell_type": "code",
   "execution_count": 6,
   "metadata": {},
   "outputs": [
    {
     "data": {
      "text/plain": [
       "(768, 9)"
      ]
     },
     "execution_count": 6,
     "metadata": {},
     "output_type": "execute_result"
    }
   ],
   "source": [
    "data.shape"
   ]
  },
  {
   "cell_type": "code",
   "execution_count": 7,
   "metadata": {},
   "outputs": [
    {
     "name": "stdout",
     "output_type": "stream",
     "text": [
      "<class 'pandas.core.frame.DataFrame'>\n",
      "RangeIndex: 768 entries, 0 to 767\n",
      "Data columns (total 9 columns):\n",
      " #   Column                    Non-Null Count  Dtype  \n",
      "---  ------                    --------------  -----  \n",
      " 0   Pregnancies               768 non-null    int64  \n",
      " 1   Glucose                   768 non-null    int64  \n",
      " 2   BloodPressure             768 non-null    int64  \n",
      " 3   SkinThickness             768 non-null    int64  \n",
      " 4   Insulin                   768 non-null    int64  \n",
      " 5   BMI                       768 non-null    float64\n",
      " 6   DiabetesPedigreeFunction  768 non-null    float64\n",
      " 7   Age                       768 non-null    int64  \n",
      " 8   Outcome                   768 non-null    int64  \n",
      "dtypes: float64(2), int64(7)\n",
      "memory usage: 54.1 KB\n"
     ]
    }
   ],
   "source": [
    "data.info()"
   ]
  },
  {
   "cell_type": "code",
   "execution_count": 8,
   "metadata": {},
   "outputs": [],
   "source": [
    "data_c=data.copy()"
   ]
  },
  {
   "cell_type": "code",
   "execution_count": 9,
   "metadata": {},
   "outputs": [
    {
     "data": {
      "text/html": [
       "<div>\n",
       "<style scoped>\n",
       "    .dataframe tbody tr th:only-of-type {\n",
       "        vertical-align: middle;\n",
       "    }\n",
       "\n",
       "    .dataframe tbody tr th {\n",
       "        vertical-align: top;\n",
       "    }\n",
       "\n",
       "    .dataframe thead th {\n",
       "        text-align: right;\n",
       "    }\n",
       "</style>\n",
       "<table border=\"1\" class=\"dataframe\">\n",
       "  <thead>\n",
       "    <tr style=\"text-align: right;\">\n",
       "      <th></th>\n",
       "      <th>Pregnancies</th>\n",
       "      <th>Glucose</th>\n",
       "      <th>BloodPressure</th>\n",
       "      <th>SkinThickness</th>\n",
       "      <th>Insulin</th>\n",
       "      <th>BMI</th>\n",
       "      <th>DiabetesPedigreeFunction</th>\n",
       "      <th>Age</th>\n",
       "      <th>Outcome</th>\n",
       "    </tr>\n",
       "  </thead>\n",
       "  <tbody>\n",
       "    <tr>\n",
       "      <th>count</th>\n",
       "      <td>768.000000</td>\n",
       "      <td>768.000000</td>\n",
       "      <td>768.000000</td>\n",
       "      <td>768.000000</td>\n",
       "      <td>768.000000</td>\n",
       "      <td>768.000000</td>\n",
       "      <td>768.000000</td>\n",
       "      <td>768.000000</td>\n",
       "      <td>768.000000</td>\n",
       "    </tr>\n",
       "    <tr>\n",
       "      <th>mean</th>\n",
       "      <td>3.845052</td>\n",
       "      <td>120.894531</td>\n",
       "      <td>69.105469</td>\n",
       "      <td>20.536458</td>\n",
       "      <td>79.799479</td>\n",
       "      <td>31.992578</td>\n",
       "      <td>0.471876</td>\n",
       "      <td>33.240885</td>\n",
       "      <td>0.348958</td>\n",
       "    </tr>\n",
       "    <tr>\n",
       "      <th>std</th>\n",
       "      <td>3.369578</td>\n",
       "      <td>31.972618</td>\n",
       "      <td>19.355807</td>\n",
       "      <td>15.952218</td>\n",
       "      <td>115.244002</td>\n",
       "      <td>7.884160</td>\n",
       "      <td>0.331329</td>\n",
       "      <td>11.760232</td>\n",
       "      <td>0.476951</td>\n",
       "    </tr>\n",
       "    <tr>\n",
       "      <th>min</th>\n",
       "      <td>0.000000</td>\n",
       "      <td>0.000000</td>\n",
       "      <td>0.000000</td>\n",
       "      <td>0.000000</td>\n",
       "      <td>0.000000</td>\n",
       "      <td>0.000000</td>\n",
       "      <td>0.078000</td>\n",
       "      <td>21.000000</td>\n",
       "      <td>0.000000</td>\n",
       "    </tr>\n",
       "    <tr>\n",
       "      <th>25%</th>\n",
       "      <td>1.000000</td>\n",
       "      <td>99.000000</td>\n",
       "      <td>62.000000</td>\n",
       "      <td>0.000000</td>\n",
       "      <td>0.000000</td>\n",
       "      <td>27.300000</td>\n",
       "      <td>0.243750</td>\n",
       "      <td>24.000000</td>\n",
       "      <td>0.000000</td>\n",
       "    </tr>\n",
       "    <tr>\n",
       "      <th>50%</th>\n",
       "      <td>3.000000</td>\n",
       "      <td>117.000000</td>\n",
       "      <td>72.000000</td>\n",
       "      <td>23.000000</td>\n",
       "      <td>30.500000</td>\n",
       "      <td>32.000000</td>\n",
       "      <td>0.372500</td>\n",
       "      <td>29.000000</td>\n",
       "      <td>0.000000</td>\n",
       "    </tr>\n",
       "    <tr>\n",
       "      <th>75%</th>\n",
       "      <td>6.000000</td>\n",
       "      <td>140.250000</td>\n",
       "      <td>80.000000</td>\n",
       "      <td>32.000000</td>\n",
       "      <td>127.250000</td>\n",
       "      <td>36.600000</td>\n",
       "      <td>0.626250</td>\n",
       "      <td>41.000000</td>\n",
       "      <td>1.000000</td>\n",
       "    </tr>\n",
       "    <tr>\n",
       "      <th>max</th>\n",
       "      <td>17.000000</td>\n",
       "      <td>199.000000</td>\n",
       "      <td>122.000000</td>\n",
       "      <td>99.000000</td>\n",
       "      <td>846.000000</td>\n",
       "      <td>67.100000</td>\n",
       "      <td>2.420000</td>\n",
       "      <td>81.000000</td>\n",
       "      <td>1.000000</td>\n",
       "    </tr>\n",
       "  </tbody>\n",
       "</table>\n",
       "</div>"
      ],
      "text/plain": [
       "       Pregnancies     Glucose  BloodPressure  SkinThickness     Insulin  \\\n",
       "count   768.000000  768.000000     768.000000     768.000000  768.000000   \n",
       "mean      3.845052  120.894531      69.105469      20.536458   79.799479   \n",
       "std       3.369578   31.972618      19.355807      15.952218  115.244002   \n",
       "min       0.000000    0.000000       0.000000       0.000000    0.000000   \n",
       "25%       1.000000   99.000000      62.000000       0.000000    0.000000   \n",
       "50%       3.000000  117.000000      72.000000      23.000000   30.500000   \n",
       "75%       6.000000  140.250000      80.000000      32.000000  127.250000   \n",
       "max      17.000000  199.000000     122.000000      99.000000  846.000000   \n",
       "\n",
       "              BMI  DiabetesPedigreeFunction         Age     Outcome  \n",
       "count  768.000000                768.000000  768.000000  768.000000  \n",
       "mean    31.992578                  0.471876   33.240885    0.348958  \n",
       "std      7.884160                  0.331329   11.760232    0.476951  \n",
       "min      0.000000                  0.078000   21.000000    0.000000  \n",
       "25%     27.300000                  0.243750   24.000000    0.000000  \n",
       "50%     32.000000                  0.372500   29.000000    0.000000  \n",
       "75%     36.600000                  0.626250   41.000000    1.000000  \n",
       "max     67.100000                  2.420000   81.000000    1.000000  "
      ]
     },
     "execution_count": 9,
     "metadata": {},
     "output_type": "execute_result"
    }
   ],
   "source": [
    "data_c.describe()\n",
    "pd.set_option('display.max_columns',10)\n",
    "data.describe()"
   ]
  },
  {
   "cell_type": "code",
   "execution_count": 10,
   "metadata": {},
   "outputs": [
    {
     "data": {
      "text/plain": [
       "Index(['Pregnancies', 'Glucose', 'BloodPressure', 'SkinThickness', 'Insulin',\n",
       "       'BMI', 'DiabetesPedigreeFunction', 'Age', 'Outcome'],\n",
       "      dtype='object')"
      ]
     },
     "execution_count": 10,
     "metadata": {},
     "output_type": "execute_result"
    }
   ],
   "source": [
    "data_c.columns"
   ]
  },
  {
   "cell_type": "code",
   "execution_count": 11,
   "metadata": {},
   "outputs": [
    {
     "name": "stderr",
     "output_type": "stream",
     "text": [
      "C:\\ProgramData\\Anaconda3\\lib\\site-packages\\seaborn\\distributions.py:2557: FutureWarning: `distplot` is a deprecated function and will be removed in a future version. Please adapt your code to use either `displot` (a figure-level function with similar flexibility) or `histplot` (an axes-level function for histograms).\n",
      "  warnings.warn(msg, FutureWarning)\n"
     ]
    },
    {
     "data": {
      "text/plain": [
       "<AxesSubplot:xlabel='Pregnancies', ylabel='Pregnancies'>"
      ]
     },
     "execution_count": 11,
     "metadata": {},
     "output_type": "execute_result"
    },
    {
     "data": {
      "image/png": "[encoded data removed]",
      "text/plain": [
       "<Figure size 432x288 with 1 Axes>"
      ]
     },
     "metadata": {
      "needs_background": "light"
     },
     "output_type": "display_data"
    }
   ],
   "source": [
    "sns.distplot(data_c['Pregnancies'],kde=False)\n",
    "sns.boxplot(y=data_c['Pregnancies'])"
   ]
  },
  {
   "cell_type": "code",
   "execution_count": 12,
   "metadata": {},
   "outputs": [
    {
     "name": "stderr",
     "output_type": "stream",
     "text": [
      "C:\\ProgramData\\Anaconda3\\lib\\site-packages\\seaborn\\distributions.py:2557: FutureWarning: `distplot` is a deprecated function and will be removed in a future version. Please adapt your code to use either `displot` (a figure-level function with similar flexibility) or `histplot` (an axes-level function for histograms).\n",
      "  warnings.warn(msg, FutureWarning)\n"
     ]
    },
    {
     "data": {
      "text/plain": [
       "<AxesSubplot:xlabel='Pregnancies', ylabel='Pregnancies'>"
      ]
     },
     "execution_count": 12,
     "metadata": {},
     "output_type": "execute_result"
    },
    {
     "data": {
      "image/png": "[encoded data removed]",
      "text/plain": [
       "<Figure size 432x288 with 1 Axes>"
      ]
     },
     "metadata": {
      "needs_background": "light"
     },
     "output_type": "display_data"
    }
   ],
   "source": [
    "sns.distplot(data_c['Pregnancies'],kde=False)\n",
    "sns.boxplot(y=data_c['Pregnancies'])"
   ]
  },
  {
   "cell_type": "code",
   "execution_count": 13,
   "metadata": {},
   "outputs": [
    {
     "name": "stderr",
     "output_type": "stream",
     "text": [
      "C:\\ProgramData\\Anaconda3\\lib\\site-packages\\seaborn\\distributions.py:2557: FutureWarning: `distplot` is a deprecated function and will be removed in a future version. Please adapt your code to use either `displot` (a figure-level function with similar flexibility) or `histplot` (an axes-level function for histograms).\n",
      "  warnings.warn(msg, FutureWarning)\n"
     ]
    },
    {
     "data": {
      "text/plain": [
       "<AxesSubplot:xlabel='Glucose', ylabel='Glucose'>"
      ]
     },
     "execution_count": 13,
     "metadata": {},
     "output_type": "execute_result"
    },
    {
     "data": {
      "image/png": "[encoded data removed]",
      "text/plain": [
       "<Figure size 432x288 with 1 Axes>"
      ]
     },
     "metadata": {
      "needs_background": "light"
     },
     "output_type": "display_data"
    }
   ],
   "source": [
    "#variable Glucose\n",
    "sns.distplot(data_c['Glucose'],kde=False)\n",
    "sns.boxplot(y=data_c['Glucose'])"
   ]
  },
  {
   "cell_type": "code",
   "execution_count": 14,
   "metadata": {},
   "outputs": [
    {
     "name": "stderr",
     "output_type": "stream",
     "text": [
      "C:\\ProgramData\\Anaconda3\\lib\\site-packages\\seaborn\\distributions.py:2557: FutureWarning: `distplot` is a deprecated function and will be removed in a future version. Please adapt your code to use either `displot` (a figure-level function with similar flexibility) or `histplot` (an axes-level function for histograms).\n",
      "  warnings.warn(msg, FutureWarning)\n"
     ]
    },
    {
     "data": {
      "text/plain": [
       "<AxesSubplot:xlabel='BloodPressure', ylabel='BloodPressure'>"
      ]
     },
     "execution_count": 14,
     "metadata": {},
     "output_type": "execute_result"
    },
    {
     "data": {
      "image/png": "[encoded data removed]",
      "text/plain": [
       "<Figure size 432x288 with 1 Axes>"
      ]
     },
     "metadata": {
      "needs_background": "light"
     },
     "output_type": "display_data"
    }
   ],
   "source": [
    "#variable BP\n",
    "sns.distplot(data_c['BloodPressure'],kde=False)\n",
    "sns.boxplot(y=data_c['BloodPressure'])\n",
    "#Hence the data is clean"
   ]
  },
  {
   "cell_type": "code",
   "execution_count": 15,
   "metadata": {},
   "outputs": [
    {
     "name": "stderr",
     "output_type": "stream",
     "text": [
      "C:\\ProgramData\\Anaconda3\\lib\\site-packages\\seaborn\\distributions.py:2557: FutureWarning: `distplot` is a deprecated function and will be removed in a future version. Please adapt your code to use either `displot` (a figure-level function with similar flexibility) or `histplot` (an axes-level function for histograms).\n",
      "  warnings.warn(msg, FutureWarning)\n"
     ]
    },
    {
     "data": {
      "text/plain": [
       "<AxesSubplot:xlabel='Glucose', ylabel='Outcome'>"
      ]
     },
     "execution_count": 15,
     "metadata": {},
     "output_type": "execute_result"
    },
    {
     "data": {
      "image/png": "[encoded data removed]",
      "text/plain": [
       "<Figure size 432x288 with 1 Axes>"
      ]
     },
     "metadata": {
      "needs_background": "light"
     },
     "output_type": "display_data"
    }
   ],
   "source": [
    "sns.regplot(x=data_c['Pregnancies'],y=data_c['Outcome'])\n",
    "sns.distplot(data_c['Glucose'])"
   ]
  },
  {
   "cell_type": "code",
   "execution_count": null,
   "metadata": {},
   "outputs": [],
   "source": [
    "\n",
    "sns.pairplot(data_c,kind='scatter',hue='Outcome')"
   ]
  },
  {
   "cell_type": "code",
   "execution_count": 42,
   "metadata": {},
   "outputs": [],
   "source": [
    "corr_matrix=data_c.corr()\n"
   ]
  },
  {
   "cell_type": "code",
   "execution_count": 43,
   "metadata": {},
   "outputs": [
    {
     "data": {
      "text/plain": [
       "<matplotlib.axes._subplots.AxesSubplot at 0x264d37214c0>"
      ]
     },
     "execution_count": 43,
     "metadata": {},
     "output_type": "execute_result"
    },
    {
     "data": {
      "image/png": "[encoded data removed]",
      "text/plain": [
       "<Figure size 432x288 with 2 Axes>"
      ]
     },
     "metadata": {
      "needs_background": "light"
     },
     "output_type": "display_data"
    }
   ],
   "source": [
    "sns.heatmap(corr_matrix,annot=True,cmap=\"RdYlGn\")"
   ]
  },
  {
   "cell_type": "code",
   "execution_count": 44,
   "metadata": {},
   "outputs": [],
   "source": [
    "from sklearn.model_selection import train_test_split\n",
    "from sklearn.metrics import accuracy_score,confusion_matrix\n",
    "from sklearn.ensemble import RandomForestClassifier\n",
    "\n",
    "\n",
    "\n",
    "\n",
    "x=data_c.drop(['Outcome'],axis=1,inplace=False)\n",
    "y=data_c['Outcome']\n",
    "\n",
    "X_train,X_test,y_train,y_test = train_test_split(x,y,test_size=0.3,random_state=3)"
   ]
  },
  {
   "cell_type": "code",
   "execution_count": 45,
   "metadata": {},
   "outputs": [
    {
     "name": "stdout",
     "output_type": "stream",
     "text": [
      "0.424\n"
     ]
    }
   ],
   "source": [
    "base_pred=np.mean(y_test)\n",
    "base_pred=round(base_pred,3)\n",
    "print(base_pred)\n"
   ]
  },
  {
   "cell_type": "code",
   "execution_count": 46,
   "metadata": {},
   "outputs": [
    {
     "name": "stdout",
     "output_type": "stream",
     "text": [
      "0.7445887445887446 1.0\n"
     ]
    }
   ],
   "source": [
    "rf=RandomForestClassifier(random_state=10)\n",
    "model_rf=rf.fit(X_train,y_train)\n",
    "\n",
    "#rf2=RandomForestRegressor()\n",
    "\n",
    "model_predict=rf.predict(X_test)\n",
    "\n",
    "rf_test1=model_rf.score(X_test,y_test)\n",
    "rf_train1=model_rf.score(X_train,y_train)\n",
    "print(rf_test1,rf_train1)"
   ]
  },
  {
   "cell_type": "code",
   "execution_count": 47,
   "metadata": {},
   "outputs": [
    {
     "name": "stdout",
     "output_type": "stream",
     "text": [
      "[[3.52765957e+00 1.29327660e+02 7.14468085e+01 3.03063830e+01\n",
      "  1.59102128e+02 3.39893617e+01 5.40276596e-01 3.19021277e+01]\n",
      " [3.98181818e+00 1.14008081e+02 6.77717172e+01 1.49979798e+01\n",
      "  1.44000000e+01 3.08054545e+01 4.31931313e-01 3.37595960e+01]\n",
      " [4.02631579e+00 1.58447368e+02 7.20000000e+01 3.22631579e+01\n",
      "  4.41289474e+02 3.51078947e+01 5.69210526e-01 3.47631579e+01]]\n"
     ]
    },
    {
     "name": "stderr",
     "output_type": "stream",
     "text": [
      "C:\\Users\\Jabir\\anaconda3\\lib\\site-packages\\sklearn\\cluster\\_kmeans.py:973: FutureWarning: 'n_jobs' was deprecated in version 0.23 and will be removed in 0.25.\n",
      "  warnings.warn(\"'n_jobs' was deprecated in version 0.23 and will be\"\n"
     ]
    }
   ],
   "source": [
    "from sklearn.cluster import KMeans\n",
    "model=KMeans(n_clusters=3,n_jobs=4,random_state=3)\n",
    "model.fit(x)\n",
    "centers=model.cluster_centers_\n",
    "print(centers)"
   ]
  },
  {
   "cell_type": "code",
   "execution_count": 48,
   "metadata": {},
   "outputs": [
    {
     "name": "stderr",
     "output_type": "stream",
     "text": [
      "C:\\Users\\Jabir\\anaconda3\\lib\\site-packages\\sklearn\\linear_model\\_logistic.py:762: ConvergenceWarning: lbfgs failed to converge (status=1):\n",
      "STOP: TOTAL NO. of ITERATIONS REACHED LIMIT.\n",
      "\n",
      "Increase the number of iterations (max_iter) or scale the data as shown in:\n",
      "    https://scikit-learn.org/stable/modules/preprocessing.html\n",
      "Please also refer to the documentation for alternative solver options:\n",
      "    https://scikit-learn.org/stable/modules/linear_model.html#logistic-regression\n",
      "  n_iter_i = _check_optimize_result(\n"
     ]
    }
   ],
   "source": [
    "from sklearn.linear_model import LogisticRegression\n",
    "lgr=LogisticRegression()\n",
    "model_lgr=lgr.fit(X_train,y_train)\n",
    "model_predict_lgr=lgr.predict(X_test)"
   ]
  },
  {
   "cell_type": "code",
   "execution_count": 49,
   "metadata": {},
   "outputs": [
    {
     "name": "stdout",
     "output_type": "stream",
     "text": [
      "0.7532467532467533 0.7914338919925512\n"
     ]
    }
   ],
   "source": [
    "lgr_test=model_lgr.score(X_test,y_test)\n",
    "lgr_train=model_lgr.score(X_train,y_train)\n",
    "print(lgr_test,lgr_train)"
   ]
  },
  {
   "cell_type": "code",
   "execution_count": 50,
   "metadata": {},
   "outputs": [
    {
     "data": {
      "text/plain": [
       "array([[0.9253709 , 0.0746291 ],\n",
       "       [0.1983969 , 0.8016031 ],\n",
       "       [0.95365098, 0.04634902],\n",
       "       [0.09227935, 0.90772065],\n",
       "       [0.58750405, 0.41249595],\n",
       "       [0.56406008, 0.43593992],\n",
       "       [0.897792  , 0.102208  ],\n",
       "       [0.9868158 , 0.0131842 ],\n",
       "       [0.78643035, 0.21356965],\n",
       "       [0.97097351, 0.02902649],\n",
       "       [0.58396689, 0.41603311],\n",
       "       [0.66695588, 0.33304412],\n",
       "       [0.80586028, 0.19413972],\n",
       "       [0.18663396, 0.81336604],\n",
       "       [0.32049577, 0.67950423],\n",
       "       [0.99600264, 0.00399736],\n",
       "       [0.91831175, 0.08168825],\n",
       "       [0.97675412, 0.02324588],\n",
       "       [0.45494346, 0.54505654],\n",
       "       [0.56494127, 0.43505873],\n",
       "       [0.86531622, 0.13468378],\n",
       "       [0.93774382, 0.06225618],\n",
       "       [0.78377108, 0.21622892],\n",
       "       [0.58017907, 0.41982093],\n",
       "       [0.95341936, 0.04658064],\n",
       "       [0.17931804, 0.82068196],\n",
       "       [0.79343404, 0.20656596],\n",
       "       [0.8705075 , 0.1294925 ],\n",
       "       [0.63449934, 0.36550066],\n",
       "       [0.76962118, 0.23037882],\n",
       "       [0.07599447, 0.92400553],\n",
       "       [0.76550747, 0.23449253],\n",
       "       [0.89650092, 0.10349908],\n",
       "       [0.89211862, 0.10788138],\n",
       "       [0.60884635, 0.39115365],\n",
       "       [0.87089959, 0.12910041],\n",
       "       [0.76087322, 0.23912678],\n",
       "       [0.67432777, 0.32567223],\n",
       "       [0.4579662 , 0.5420338 ],\n",
       "       [0.38249542, 0.61750458],\n",
       "       [0.32581485, 0.67418515],\n",
       "       [0.89324974, 0.10675026],\n",
       "       [0.69683006, 0.30316994],\n",
       "       [0.82879315, 0.17120685],\n",
       "       [0.7328028 , 0.2671972 ],\n",
       "       [0.49976132, 0.50023868],\n",
       "       [0.8282881 , 0.1717119 ],\n",
       "       [0.65922302, 0.34077698],\n",
       "       [0.46095588, 0.53904412],\n",
       "       [0.81177543, 0.18822457],\n",
       "       [0.39076039, 0.60923961],\n",
       "       [0.58904026, 0.41095974],\n",
       "       [0.84365224, 0.15634776],\n",
       "       [0.48768756, 0.51231244],\n",
       "       [0.58936363, 0.41063637],\n",
       "       [0.80491112, 0.19508888],\n",
       "       [0.61569802, 0.38430198],\n",
       "       [0.72521871, 0.27478129],\n",
       "       [0.7755152 , 0.2244848 ],\n",
       "       [0.77127426, 0.22872574],\n",
       "       [0.04514815, 0.95485185],\n",
       "       [0.96974652, 0.03025348],\n",
       "       [0.64420634, 0.35579366],\n",
       "       [0.53893575, 0.46106425],\n",
       "       [0.48858012, 0.51141988],\n",
       "       [0.23367519, 0.76632481],\n",
       "       [0.0436157 , 0.9563843 ],\n",
       "       [0.58689695, 0.41310305],\n",
       "       [0.90945194, 0.09054806],\n",
       "       [0.63761294, 0.36238706],\n",
       "       [0.13262233, 0.86737767],\n",
       "       [0.72848213, 0.27151787],\n",
       "       [0.9596814 , 0.0403186 ],\n",
       "       [0.65907031, 0.34092969],\n",
       "       [0.95728476, 0.04271524],\n",
       "       [0.49826175, 0.50173825],\n",
       "       [0.84366277, 0.15633723],\n",
       "       [0.95450335, 0.04549665],\n",
       "       [0.92698484, 0.07301516],\n",
       "       [0.76875299, 0.23124701],\n",
       "       [0.63996556, 0.36003444],\n",
       "       [0.26524036, 0.73475964],\n",
       "       [0.93514632, 0.06485368],\n",
       "       [0.21476124, 0.78523876],\n",
       "       [0.14537039, 0.85462961],\n",
       "       [0.8555124 , 0.1444876 ],\n",
       "       [0.84244754, 0.15755246],\n",
       "       [0.85944822, 0.14055178],\n",
       "       [0.74026838, 0.25973162],\n",
       "       [0.91498354, 0.08501646],\n",
       "       [0.27192968, 0.72807032],\n",
       "       [0.0560481 , 0.9439519 ],\n",
       "       [0.1714826 , 0.8285174 ],\n",
       "       [0.92884748, 0.07115252],\n",
       "       [0.8434165 , 0.1565835 ],\n",
       "       [0.86849923, 0.13150077],\n",
       "       [0.36527374, 0.63472626],\n",
       "       [0.8810854 , 0.1189146 ],\n",
       "       [0.07892769, 0.92107231],\n",
       "       [0.93208896, 0.06791104],\n",
       "       [0.90862774, 0.09137226],\n",
       "       [0.20368691, 0.79631309],\n",
       "       [0.87764706, 0.12235294],\n",
       "       [0.14872664, 0.85127336],\n",
       "       [0.85495705, 0.14504295],\n",
       "       [0.88030782, 0.11969218],\n",
       "       [0.6651438 , 0.3348562 ],\n",
       "       [0.17118998, 0.82881002],\n",
       "       [0.73108403, 0.26891597],\n",
       "       [0.57873115, 0.42126885],\n",
       "       [0.79912488, 0.20087512],\n",
       "       [0.92042698, 0.07957302],\n",
       "       [0.03623228, 0.96376772],\n",
       "       [0.49854151, 0.50145849],\n",
       "       [0.44958295, 0.55041705],\n",
       "       [0.74409258, 0.25590742],\n",
       "       [0.14685155, 0.85314845],\n",
       "       [0.40936701, 0.59063299],\n",
       "       [0.13962576, 0.86037424],\n",
       "       [0.91309974, 0.08690026],\n",
       "       [0.97457274, 0.02542726],\n",
       "       [0.81506943, 0.18493057],\n",
       "       [0.9020719 , 0.0979281 ],\n",
       "       [0.59029282, 0.40970718],\n",
       "       [0.95036242, 0.04963758],\n",
       "       [0.23741841, 0.76258159],\n",
       "       [0.70472024, 0.29527976],\n",
       "       [0.10876686, 0.89123314],\n",
       "       [0.86330754, 0.13669246],\n",
       "       [0.21075132, 0.78924868],\n",
       "       [0.14968158, 0.85031842],\n",
       "       [0.47025168, 0.52974832],\n",
       "       [0.13699214, 0.86300786],\n",
       "       [0.80559641, 0.19440359],\n",
       "       [0.72318651, 0.27681349],\n",
       "       [0.8623425 , 0.1376575 ],\n",
       "       [0.73297133, 0.26702867],\n",
       "       [0.33752415, 0.66247585],\n",
       "       [0.98536988, 0.01463012],\n",
       "       [0.96277419, 0.03722581],\n",
       "       [0.88196178, 0.11803822],\n",
       "       [0.89692903, 0.10307097],\n",
       "       [0.83356599, 0.16643401],\n",
       "       [0.89585761, 0.10414239],\n",
       "       [0.6819875 , 0.3180125 ],\n",
       "       [0.92826218, 0.07173782],\n",
       "       [0.70253644, 0.29746356],\n",
       "       [0.37331271, 0.62668729],\n",
       "       [0.90474844, 0.09525156],\n",
       "       [0.63139265, 0.36860735],\n",
       "       [0.0995409 , 0.9004591 ],\n",
       "       [0.6764421 , 0.3235579 ],\n",
       "       [0.18807095, 0.81192905],\n",
       "       [0.80170275, 0.19829725],\n",
       "       [0.62858067, 0.37141933],\n",
       "       [0.76225599, 0.23774401],\n",
       "       [0.61975166, 0.38024834],\n",
       "       [0.74827585, 0.25172415],\n",
       "       [0.47475236, 0.52524764],\n",
       "       [0.76379597, 0.23620403],\n",
       "       [0.41514709, 0.58485291],\n",
       "       [0.56687272, 0.43312728],\n",
       "       [0.88720062, 0.11279938],\n",
       "       [0.8195097 , 0.1804903 ],\n",
       "       [0.90963389, 0.09036611],\n",
       "       [0.22965367, 0.77034633],\n",
       "       [0.11119344, 0.88880656],\n",
       "       [0.88635496, 0.11364504],\n",
       "       [0.36522076, 0.63477924],\n",
       "       [0.90428041, 0.09571959],\n",
       "       [0.90754917, 0.09245083],\n",
       "       [0.62618361, 0.37381639],\n",
       "       [0.60632021, 0.39367979],\n",
       "       [0.57722267, 0.42277733],\n",
       "       [0.53465007, 0.46534993],\n",
       "       [0.2721397 , 0.7278603 ],\n",
       "       [0.33060422, 0.66939578],\n",
       "       [0.52916202, 0.47083798],\n",
       "       [0.6779643 , 0.3220357 ],\n",
       "       [0.11963379, 0.88036621],\n",
       "       [0.96814069, 0.03185931],\n",
       "       [0.85138872, 0.14861128],\n",
       "       [0.32608069, 0.67391931],\n",
       "       [0.99060299, 0.00939701],\n",
       "       [0.1349606 , 0.8650394 ],\n",
       "       [0.43290234, 0.56709766],\n",
       "       [0.68689839, 0.31310161],\n",
       "       [0.91850393, 0.08149607],\n",
       "       [0.74281143, 0.25718857],\n",
       "       [0.70646099, 0.29353901],\n",
       "       [0.8019089 , 0.1980911 ],\n",
       "       [0.66352683, 0.33647317],\n",
       "       [0.97497688, 0.02502312],\n",
       "       [0.30175447, 0.69824553],\n",
       "       [0.97156469, 0.02843531],\n",
       "       [0.74777497, 0.25222503],\n",
       "       [0.52097068, 0.47902932],\n",
       "       [0.87851462, 0.12148538],\n",
       "       [0.74556731, 0.25443269],\n",
       "       [0.87545932, 0.12454068],\n",
       "       [0.87395946, 0.12604054],\n",
       "       [0.3731319 , 0.6268681 ],\n",
       "       [0.94410405, 0.05589595],\n",
       "       [0.3761266 , 0.6238734 ],\n",
       "       [0.12262307, 0.87737693],\n",
       "       [0.79859947, 0.20140053],\n",
       "       [0.20803836, 0.79196164],\n",
       "       [0.27426176, 0.72573824],\n",
       "       [0.74431392, 0.25568608],\n",
       "       [0.37457277, 0.62542723],\n",
       "       [0.96734981, 0.03265019],\n",
       "       [0.11996795, 0.88003205],\n",
       "       [0.866123  , 0.133877  ],\n",
       "       [0.59558363, 0.40441637],\n",
       "       [0.56714545, 0.43285455],\n",
       "       [0.17409858, 0.82590142],\n",
       "       [0.60198058, 0.39801942],\n",
       "       [0.80344052, 0.19655948],\n",
       "       [0.84830904, 0.15169096],\n",
       "       [0.87175635, 0.12824365],\n",
       "       [0.31286595, 0.68713405],\n",
       "       [0.81543434, 0.18456566],\n",
       "       [0.87952126, 0.12047874],\n",
       "       [0.2771624 , 0.7228376 ],\n",
       "       [0.90971575, 0.09028425],\n",
       "       [0.21339466, 0.78660534],\n",
       "       [0.86335707, 0.13664293],\n",
       "       [0.7453593 , 0.2546407 ],\n",
       "       [0.77928215, 0.22071785],\n",
       "       [0.35098437, 0.64901563],\n",
       "       [0.78568614, 0.21431386]])"
      ]
     },
     "execution_count": 50,
     "metadata": {},
     "output_type": "execute_result"
    }
   ],
   "source": [
    "model_lgr.predict_proba(X_test)"
   ]
  },
  {
   "cell_type": "markdown",
   "metadata": {},
   "source": [
    "We can see that patient at index 0 has a 92.5% chance of absence of diabetes, while patient at index 1 has a 80.1% predicted chance of having diabetes."
   ]
  },
  {
   "cell_type": "code",
   "execution_count": null,
   "metadata": {},
   "outputs": [],
   "source": []
  }
 ],
 "metadata": {
  "kernelspec": {
   "display_name": "Python 3",
   "language": "python",
   "name": "python3"
  },
  "language_info": {
   "codemirror_mode": {
    "name": "ipython",
    "version": 3
   },
   "file_extension": ".py",
   "mimetype": "text/x-python",
   "name": "python",
   "nbconvert_exporter": "python",
   "pygments_lexer": "ipython3",
   "version": "3.8.8"
  }
 },
 "nbformat": 4,
 "nbformat_minor": 4
}
